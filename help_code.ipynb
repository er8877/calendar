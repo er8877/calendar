{
 "cells": [
  {
   "cell_type": "code",
   "execution_count": 75,
   "metadata": {},
   "outputs": [],
   "source": [
    "# compass\n",
    "\n",
    "from datetime import datetime\n",
    "# Import Required Library\n",
    "from tkinter import *\n",
    "from tkcalendar import Calendar\n",
    "\n",
    "date = datetime.now()\n",
    "date_year = int(date.strftime(\"%Y\"))\n",
    "date_month = int(date.strftime(\"%m\"))\n",
    "date_day = int(date.strftime(\"%d\"))\n",
    "\n",
    "\n",
    "# Create Object\n",
    "root = Tk()\n",
    "\n",
    "# Set geometry\n",
    "root.geometry(\"400x400\")\n",
    "\n",
    "# Add Calendar\n",
    "cal = Calendar(root, selectmode = 'day',\n",
    "\t\t\tyear = date_year, month = date_month,\n",
    "\t\t\tday = date_day)\n",
    "\n",
    "cal.pack(pady = 20)\n",
    "\n",
    "def grad_date():\n",
    "\tdate.config(text = \"Selected Date is: \" + cal.get_date())\n",
    "\n",
    "# Add Button and Label\n",
    "Button(root, text = \"Get Date\",\n",
    "\tcommand = grad_date).pack(pady = 20)\n",
    "\n",
    "date = Label(root, text = \"\")\n",
    "date.pack(pady = 20)\n",
    "\n",
    "# Execute Tkinter\n",
    "root.mainloop()\n"
   ]
  },
  {
   "cell_type": "code",
   "execution_count": 122,
   "metadata": {},
   "outputs": [
    {
     "name": "stdout",
     "output_type": "stream",
     "text": [
      "Latitude: 35.6892523\n",
      "Longitude: 51.3896004\n"
     ]
    }
   ],
   "source": [
    "from geopy.geocoders import Nominatim\n",
    "\n",
    "# Initialize Nominatim geocoder\n",
    "geolocator = Nominatim(user_agent=\"my_app\")\n",
    "\n",
    "# Get your current location\n",
    "location = geolocator.geocode(\"Tehran\")\n",
    "\n",
    "# Print the latitude and longitude of your current location\n",
    "if location:\n",
    "    print(\"Latitude:\", location.latitude)\n",
    "    print(\"Longitude:\", location.longitude)\n",
    "else:\n",
    "    print(\"Location not found\")"
   ]
  },
  {
   "cell_type": "code",
   "execution_count": 107,
   "metadata": {},
   "outputs": [
    {
     "name": "stdout",
     "output_type": "stream",
     "text": [
      "0.3980110171828715\n"
     ]
    }
   ],
   "source": [
    "from geopy.distance import geodesic\n",
    "import geopy\n",
    "\n",
    "work = geopy.Point(41.4107628, 2.1745004)\n",
    "home = geopy.Point(41.4126728, 2.1704725)\n",
    "\n",
    "print(geodesic(home, work).kilometers)  # Output distance in meters"
   ]
  },
  {
   "cell_type": "code",
   "execution_count": 18,
   "metadata": {},
   "outputs": [
    {
     "name": "stdout",
     "output_type": "stream",
     "text": [
      "Bearing angle from your location to the target point: 154.6300425458961 degrees\n"
     ]
    }
   ],
   "source": [
    "from geopy.distance import geodesic\n",
    "import math\n",
    "\n",
    "# Your location\n",
    "your_location = (41.4107628, 2.1745004)\n",
    "\n",
    "# Target point\n",
    "target_point = (41.4126728, 2.1704725)\n",
    "\n",
    "# Calculate the bearing angle\n",
    "distance = geodesic(your_location, target_point).meters\n",
    "delta_y = target_point[1] - your_location[1]\n",
    "delta_x = target_point[0] - your_location[0]\n",
    "\n",
    "bearing = math.degrees(math.atan2(delta_x, delta_y))\n",
    "\n",
    "if bearing < 0:\n",
    "    bearing += 360\n",
    "\n",
    "print(f\"Bearing angle from your location to the target point: {bearing} degrees\")"
   ]
  },
  {
   "cell_type": "code",
   "execution_count": 21,
   "metadata": {},
   "outputs": [
    {
     "name": "stdout",
     "output_type": "stream",
     "text": [
      "The direction based on the bearing angle 45 degrees is: Northeast\n"
     ]
    }
   ],
   "source": [
    "def classify_direction(angle):\n",
    "    directions = [\"North\", \"Northeast\", \"East\", \"Southeast\", \n",
    "                  \"South\", \"Southwest\", \"West\", \"Northwest\"]\n",
    "\n",
    "    index = round(angle / (360. / len(directions))) % len(directions)\n",
    "    \n",
    "    return directions[index]\n",
    "\n",
    "# Example bearing angle (0 to 360 degrees)\n",
    "bearing_angle = 45 \n",
    "\n",
    "direction = classify_direction(bearing_angle)\n",
    "\n",
    "print(f\"The direction based on the bearing angle {bearing_angle} degrees is: {direction}\")"
   ]
  },
  {
   "cell_type": "code",
   "execution_count": 144,
   "metadata": {},
   "outputs": [
    {
     "data": {
      "text/plain": [
       "(-1.9893346, 30.0861036)"
      ]
     },
     "execution_count": 144,
     "metadata": {},
     "output_type": "execute_result"
    }
   ],
   "source": [
    "def get_points(d_city):\n",
    "    geolocator = Nominatim(user_agent=\"my_app\")\n",
    "    location = geolocator.geocode(d_city)\n",
    "    if location:\n",
    "        return location.latitude, location.longitude\n",
    "\n",
    "get_points(\"my_location\")"
   ]
  },
  {
   "cell_type": "code",
   "execution_count": 145,
   "metadata": {},
   "outputs": [
    {
     "name": "stdout",
     "output_type": "stream",
     "text": [
      "(-1.9893346, 30.0861036)\n",
      "(58.094197313980395, 4458.500104569072)\n"
     ]
    }
   ],
   "source": [
    "def find_angles(target_city):\n",
    "    your_location = get_points(\"my_location\")\n",
    "    your_location = (your_location[0], your_location[1])\n",
    "    target_location = get_points(target_city)\n",
    "    target_location = (target_location[0], target_location[1])\n",
    "    print(your_location)\n",
    "    \n",
    "    if your_location is None or target_location is None:\n",
    "        print(\"Error: Unable to find location for one or both cities.\")\n",
    "        return None\n",
    "    \n",
    "    distance = geodesic((your_location), (target_location)).kilometers\n",
    "    delta_y = target_location[1] - your_location[1]\n",
    "    delta_x = target_location[0] - your_location[0]\n",
    "\n",
    "    bearing = math.degrees(math.atan2(delta_x, delta_y))\n",
    "\n",
    "    if bearing < 0:\n",
    "        bearing += 360\n",
    "    \n",
    "    return bearing, distance\n",
    "\n",
    "print(find_angles(\"Isfahan\"))"
   ]
  },
  {
   "cell_type": "code",
   "execution_count": 24,
   "metadata": {},
   "outputs": [],
   "source": [
    "from datetime import datetime\n",
    "from tkinter import *\n",
    "from tkcalendar import Calendar\n",
    "import tkinter.ttk as ttk\n",
    "import math\n",
    "from geopy.distance import geodesic\n",
    "from geopy.geocoders import Nominatim\n",
    "import tkinter as tk\n",
    "from PIL import ImageTk, Image\n",
    "import requests\n",
    "\n",
    "def get_points(d_city):\n",
    "    geolocator = Nominatim(user_agent=\"my_app\")\n",
    "    location = geolocator.geocode(d_city)\n",
    "    if location:\n",
    "        return location.latitude, location.longitude\n",
    "\n",
    "\n",
    "def find_angles(target_city):\n",
    "    response = requests.get('http://ip-api.com/json/')\n",
    "    location = response.json()\n",
    "    my_current = (location['lat'], location['lon'])\n",
    "    target_location = get_points(target_city)\n",
    "    target_location = (target_location[0], target_location[1])\n",
    "\n",
    "    if my_current is None or target_location is None:\n",
    "        print(\"Error: Unable to find location for one or both cities.\")\n",
    "        return None\n",
    "    \n",
    "    distance = geodesic((my_current), (target_location)).kilometers\n",
    "    delta_y = target_location[1] - my_current[1]\n",
    "    delta_x = target_location[0] - my_current[0]\n",
    "\n",
    "    bearing = math.degrees(math.atan2(delta_x, delta_y))\n",
    "\n",
    "    if bearing < 0:\n",
    "        bearing += 360\n",
    "    \n",
    "    return bearing, distance\n",
    "    \n",
    "\n",
    "def classify_direction(angle):\n",
    "    directions = [\"North\", \"Northeast\", \"East\", \"Southeast\", \n",
    "                  \"South\", \"Southwest\", \"West\", \"Northwest\"]\n",
    "\n",
    "    index = round(angle / (360. / len(directions))) % len(directions)\n",
    "    \n",
    "    return directions[index]\n",
    "\n",
    "\n",
    "def calculate_destination_direction(destination):\n",
    "    global combobox_destination_city\n",
    "    d_city = get_points(destination)\n",
    "    \n",
    "    angle_c_d = find_angles(destination)[0]\n",
    "    angle_c_d_1=find_angles(destination)[1]\n",
    "\n",
    "    classify_dirs = classify_direction(angle_c_d)\n",
    "\n",
    "    r = tk.Toplevel()\n",
    "    r.geometry(\"928x576\")\n",
    "    r.title(\"result page\")\n",
    "    canvas= Canvas(r, width= 928, height= 576)\n",
    "    canvas.pack()\n",
    "    #Load an image in the script\n",
    "    img= ImageTk.PhotoImage(Image.open(\"island.jpg\"))\n",
    "    #Add image to the Canvas Items\n",
    "    canvas.create_image(0,0,anchor=NW,image=img)\n",
    "\n",
    "    label_result_1 = tk.Label(r, text=f\"City : {combobox_destination_city.get()} \", bg=\"#27187E\", fg=\"#AEB8FE\", font=(\"Arial\", 25))\n",
    "    label_result_1.place(x=30, y=50)\n",
    "    label_result_2 = tk.Label(r, text=f\"Direction : {classify_dirs} \", bg=\"#27187E\", fg=\"#AEB8FE\", font=(\"Arial\", 25))\n",
    "    label_result_2.place(x=30, y=120)\n",
    "    label_result_3 = tk.Label(r, text=f\"Distance : {angle_c_d_1//1000} kilometers \", bg=\"#27187E\", fg=\"#AEB8FE\", font=(\"Arial\", 25))\n",
    "    label_result_3.place(x=30, y=190)\n",
    "    r.mainloop()\n",
    "\n",
    "    print(classify_dirs)\n",
    "    print(angle_c_d_1)\n",
    "    return classify_dirs, angle_c_d_1\n",
    "\n",
    "    \n",
    "\n",
    "date = datetime.now()\n",
    "date_year = int(date.strftime(\"%Y\"))\n",
    "date_month = int(date.strftime(\"%m\"))\n",
    "date_day = int(date.strftime(\"%d\"))\n",
    "\n",
    "root = Tk()\n",
    "root.geometry(\"600x600\")\n",
    "root.configure(background=\"#AEB8FE\")\n",
    "\n",
    "border_combo = Label(root, bg=\"#27187E\", font=(\"Arial\", 16), fg=\"#F1F2F6\")\n",
    "border_combo.place(x= 241, y=410, height=55, width=265)\n",
    "combobox_destination_city = ttk.Combobox(root, font=(\"Arial\", 15), values=[\"Tehran\", \"Mashhad\", \"Isfahan\", \"Tabriz\", \"Shiraz\", \"Ahvaz\", \"Qom\", \"Kahriz\", \"Kermanshah\",\n",
    "               \"Urmia\", \"Zahedan\", \"Qazvin\", \"Kerman\", \"Ardabil\", \"Rasht\", \"Sari\", \"Arak\", \"Bandar Abbas\",\n",
    "               \"Yasuj\", \"Abadan\", \"Bojnourd\", \"Dezful\", \"Birjand\", \"Ilam\", \"Zanjan\", \"Malayer\", \"Saveh\", \n",
    "               \"Shahrud\", \"Mahabad\", \"Bandar-e Anzali\", \"Yazd\", \"Babol\", \"Borujerd\", \"Semnan\", \"Gonbad-e Kavus\",\n",
    "               \"Varamin\", \"Gorgan\", \"Quchan\", \"Hamadan\", \"Maragheh\", \"Shahrekord\", \"Ghaemshahr\", \"Shahroud\", \n",
    "               \"Masjed Soleyman\", \"Shushtar\", \"Ramsar\", \"Behbahan\", \"Tonekabon\", \"Borazjan\", \"Bastam\"], height=6)\n",
    "combobox_destination_city.place(x=250, y=420)\n",
    "\n",
    "t_city = Label(root, text=\"Target city : \", bg=\"#27187E\", font=(\"Arial\", 16), fg=\"#F1F2F6\")\n",
    "t_city.place(x= 85, y=420)\n",
    "\n",
    "accept_button = Button(root, text=\"Accept\", bg=\"#27187E\", font=(\"Arial\", 15), fg=\"#F1F2F6\", activebackground=\"black\", activeforeground=\"white\",\n",
    "                        command=lambda:calculate_destination_direction(combobox_destination_city.get()))\n",
    "accept_button.place(x=250, y=495, width=100, height=35)\n",
    "\n",
    "\n",
    "date = Label(root, text=\"Calendar\", bg=\"#27187E\", font=(\"Arial\", 25), fg=\"#F1F2F6\")\n",
    "date.place(x= 240, y=7)\n",
    "\n",
    "# Create a custom style for the calendar\n",
    "style = ttk.Style()\n",
    "style.theme_use('winnative')  # Change the theme if needed\n",
    "\n",
    "# Configure the colors for different parts of the calendar\n",
    "style.map(\"TButton\",\n",
    "          background=[('active', 'black')],\n",
    "          foreground=[('active', 'black')])\n",
    "\n",
    "cal = Calendar(root, selectmode='day',\n",
    "               year=date_year, month=date_month, day=date_day, background=\"#27187E\", disabledbackground=\"black\", bordercolor=\"black\", \n",
    "               headersbackground=\"#FF8600\", normalbackground=\"#758BFD\", foreground='white', \n",
    "               normalforeground='#27187E', headersforeground='#27187E', font=\"Arial 17\", locale='en_US')\n",
    "\n",
    "cal.place(x=85, y=90)\n",
    "\n",
    "def grab_date():\n",
    "    date.config(text=\"Selected Date is: \" + cal.get_date())\n",
    "\n",
    "# Button(root, text=\"Get Date\", command=grab_date).pack(pady=20)\n",
    "\n",
    "# date = Label(root, text=\"\")\n",
    "# date.pack(pady=20)\n",
    "\n",
    "root.mainloop()"
   ]
  },
  {
   "cell_type": "code",
   "execution_count": null,
   "metadata": {},
   "outputs": [],
   "source": [
    "# these are thems to style your calendar. => style.theme_use(\"your_style\")\n",
    "\n",
    "# 'classic': Provides a classic look and feel for widgets.\n",
    "# 'alt': Alternate appearance for the widgets.\n",
    "# 'default': Default theme based on the platform’s native theme.\n",
    "# 'vista': Theme with a Vista-like appearance.\n",
    "# 'xpnative': Mimics the appearance of Windows XP widgets.\n",
    "# 'winnative': Emulates the appearance of Windows widgets.\n",
    "# 'clam': Provides a simple and clean look, somewhat similar to Python’s default IDLE interface.\n",
    "# 'black': A theme with a black background and white accents.\n",
    "\n",
    "# You can use these theme names with the ttk.Style.theme_use() method to switch the appearance of Tkinter widgets based on your \n",
    "# preferences. Feel free to experiment with these themes to find the one that best suits your application’s design.\n"
   ]
  },
  {
   "cell_type": "code",
   "execution_count": 1,
   "metadata": {},
   "outputs": [],
   "source": [
    "import tkinter as tk\n",
    "from tkinter import *\n",
    "from tkcalendar import Calendar\n",
    "import tkinter.ttk as ttk\n",
    "import math\n",
    "from geopy.distance import geodesic\n",
    "from geopy.geocoders import Nominatim\n",
    "import tkinter as tk\n",
    "from PIL import ImageTk, Image\n",
    "from tkinter import Canvas\n",
    "r = tk.Tk()\n",
    "r.geometry(\"928x576\")\n",
    "canvas= Canvas(r, width= 928, height= 576)\n",
    "canvas.pack()\n",
    "\n",
    "#Load an image in the script\n",
    "img= ImageTk.PhotoImage(Image.open(\"island.jpg\"))\n",
    "\n",
    "#Add image to the Canvas Items\n",
    "canvas.create_image(0,00,anchor=NW,image=img)\n",
    "r.mainloop()"
   ]
  },
  {
   "cell_type": "code",
   "execution_count": 22,
   "metadata": {},
   "outputs": [
    {
     "name": "stdout",
     "output_type": "stream",
     "text": [
      "(39.0438, -77.4874)\n",
      "10576.951028554191\n"
     ]
    }
   ],
   "source": [
    "import geopy.distance\n",
    "\n",
    "response = requests.get('http://ip-api.com/json/')\n",
    "location = response.json()\n",
    "coords_1 = (location['lat'], location['lon'])\n",
    "coords_2 = get_points(\"Mashhad\")\n",
    "\n",
    "print(coords_1)\n",
    "\n",
    "print(geopy.distance.geodesic(coords_1, coords_2).km)"
   ]
  },
  {
   "cell_type": "code",
   "execution_count": 18,
   "metadata": {},
   "outputs": [
    {
     "name": "stdout",
     "output_type": "stream",
     "text": [
      "10553.535190569952\n"
     ]
    }
   ],
   "source": [
    "import mpu\n",
    "dist = mpu.haversine_distance(coords_1, coords_2)\n",
    "print(dist)"
   ]
  },
  {
   "cell_type": "code",
   "execution_count": 19,
   "metadata": {},
   "outputs": [
    {
     "data": {
      "text/plain": [
       "10553.549767733613"
      ]
     },
     "execution_count": 19,
     "metadata": {},
     "output_type": "execute_result"
    }
   ],
   "source": [
    "from haversine import Unit\n",
    "import haversine as hs\n",
    "#To calculate distance in meters \n",
    "hs.haversine(coords_1,coords_2,unit=Unit.KILOMETERS)"
   ]
  },
  {
   "cell_type": "code",
   "execution_count": 27,
   "metadata": {},
   "outputs": [],
   "source": [
    "from tkinter import *\n",
    "from geopy.geocoders import Nominatim\n",
    "\n",
    "# Create an instance of tkinter frame\n",
    "win = Tk()\n",
    "\n",
    "# Define geometry of the window\n",
    "win.geometry(\"700x350\")\n",
    "\n",
    "# Initialize Nominatim API\n",
    "geolocator = Nominatim(user_agent=\"MyApp\")\n",
    "\n",
    "# Latitude & Longitude input\n",
    "coordinates = \"39.0438 , -77.4874\"\n",
    "\n",
    "location = geolocator.reverse(coordinates)\n",
    "\n",
    "address = location.raw['address']\n",
    "\n",
    "# Traverse the data\n",
    "city = address.get('city', '')\n",
    "state = address.get('state', '')\n",
    "country = address.get('country', '')\n",
    "\n",
    "# Create a Label widget\n",
    "label1=Label(text=\"Given Latitude and Longitude: \" + coordinates, font=(\"Calibri\", 24, \"bold\"))\n",
    "label1.pack(pady=20)\n",
    "\n",
    "label2=Label(text=\"The city is: \" + city, font=(\"Calibri\", 24, \"bold\"))\n",
    "label2.pack(pady=20)\n",
    "\n",
    "label3=Label(text=\"The state is: \" + state, font=(\"Calibri\", 24, \"bold\"))\n",
    "label3.pack(pady=20)\n",
    "\n",
    "label4=Label(text=\"The country is: \" + country, font=(\"Calibri\", 24, \"bold\"))\n",
    "label4.pack(pady=20)\n",
    "\n",
    "win.mainloop()"
   ]
  },
  {
   "cell_type": "code",
   "execution_count": null,
   "metadata": {},
   "outputs": [],
   "source": [
    "# understand my ip\n",
    "from urllib.request import urlopen\n",
    "import json\n",
    "\n",
    "url = \"http://ipinfo.io/json\"\n",
    "response = urlopen(url)\n",
    "data = json.load(response)\n",
    "print((data['loc'])) # my current lat and lon"
   ]
  },
  {
   "cell_type": "code",
   "execution_count": 52,
   "metadata": {},
   "outputs": [
    {
     "data": {
      "text/plain": [
       "(39.0853, -77.6452)"
      ]
     },
     "execution_count": 52,
     "metadata": {},
     "output_type": "execute_result"
    }
   ],
   "source": [
    "t = data['loc'].split(\",\")\n",
    "t[0], t[1] = float(t[0]), float(t[1])\n",
    "t = tuple(t)\n",
    "t"
   ]
  },
  {
   "cell_type": "code",
   "execution_count": null,
   "metadata": {},
   "outputs": [],
   "source": [
    "import geopy.distance\n",
    "\n",
    "coords_1 = t\n",
    "coords_2 = get_points(\"Mashhad\")\n",
    "\n",
    "print(coords_1)\n",
    "\n",
    "print(geopy.distance.geodesic(coords_1, coords_2).km)\n"
   ]
  },
  {
   "cell_type": "code",
   "execution_count": 10,
   "metadata": {},
   "outputs": [
    {
     "name": "stdout",
     "output_type": "stream",
     "text": [
      "(34.6432, 50.9084)\n",
      "Latitude: 34.6432\n",
      "Longitude: 50.9084\n"
     ]
    }
   ],
   "source": [
    "import requests\n",
    "\n",
    "# Get current location\n",
    "response = requests.get('http://ip-api.com/json/')\n",
    "location = response.json()\n",
    "my_current = (location['lat'], location['lon'])\n",
    "print(my_current)\n",
    "print(\"Latitude:\", location['lat'])\n",
    "print(\"Longitude:\", location['lon'])"
   ]
  },
  {
   "cell_type": "code",
   "execution_count": 38,
   "metadata": {},
   "outputs": [
    {
     "name": "stdout",
     "output_type": "stream",
     "text": [
      "(32.6707877, 51.6650002)\n",
      "(34.6422939, 50.8801184)\n",
      "230.46975126488186\n"
     ]
    }
   ],
   "source": [
    "from geopy.geocoders import ArcGIS\n",
    "\n",
    "# Create a geolocator object\n",
    "geolocator = ArcGIS()\n",
    "\n",
    "# Get current location using the geolocator\n",
    "location = get_points(\"Qom\")\n",
    "coords_2 = get_points(\"Isfahan\")\n",
    "print(coords_2)\n",
    "print(location)\n",
    "\n",
    "\n",
    "\n",
    "print(geopy.distance.geodesic(location, coords_2).km)\n",
    "\n",
    "\n",
    "# Print out the location details\n",
    "# print(\"City:\", location.address)\n",
    "\n",
    "# print(\"Latitude:\", location.latitude)\n",
    "# print(\"Longitude:\", location.longitude)"
   ]
  },
  {
   "cell_type": "code",
   "execution_count": 39,
   "metadata": {},
   "outputs": [
    {
     "data": {
      "text/plain": [
       "230.94225117909858"
      ]
     },
     "execution_count": 39,
     "metadata": {},
     "output_type": "execute_result"
    }
   ],
   "source": [
    "from haversine import Unit\n",
    "import haversine as hs\n",
    "#To calculate distance in meters \n",
    "hs.haversine(location,coords_2,unit=Unit.KILOMETERS)"
   ]
  },
  {
   "cell_type": "code",
   "execution_count": 47,
   "metadata": {},
   "outputs": [
    {
     "name": "stderr",
     "output_type": "stream",
     "text": [
      "Status code 403 from http://ipinfo.io/json: ERROR - 403 Client Error: Forbidden for url: http://ipinfo.io/json\n"
     ]
    },
    {
     "name": "stdout",
     "output_type": "stream",
     "text": [
      "City: None\n",
      "Region: None\n",
      "Country: None\n",
      "Latitude: None\n",
      "Longitude: None\n"
     ]
    }
   ],
   "source": [
    "import geocoder\n",
    "\n",
    "# Get location details based on IP address\n",
    "ip_info = geocoder.ip('me')\n",
    "\n",
    "# Print out the location details\n",
    "print(\"City:\", ip_info.city)\n",
    "print(\"Region:\", ip_info.region)\n",
    "print(\"Country:\", ip_info.country)\n",
    "print(\"Latitude:\", ip_info.lat)\n",
    "print(\"Longitude:\", ip_info.lng)"
   ]
  }
 ],
 "metadata": {
  "kernelspec": {
   "display_name": "Python 3",
   "language": "python",
   "name": "python3"
  },
  "language_info": {
   "codemirror_mode": {
    "name": "ipython",
    "version": 3
   },
   "file_extension": ".py",
   "mimetype": "text/x-python",
   "name": "python",
   "nbconvert_exporter": "python",
   "pygments_lexer": "ipython3",
   "version": "3.11.7"
  }
 },
 "nbformat": 4,
 "nbformat_minor": 2
}
